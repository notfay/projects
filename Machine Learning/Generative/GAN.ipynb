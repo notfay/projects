{
  "nbformat": 4,
  "nbformat_minor": 0,
  "metadata": {
    "colab": {
      "provenance": []
    },
    "kernelspec": {
      "name": "python3",
      "display_name": "Python 3"
    },
    "language_info": {
      "name": "python"
    }
  },
  "cells": [
    {
      "cell_type": "code",
      "execution_count": 16,
      "metadata": {
        "id": "7yBW6_p6ONGS"
      },
      "outputs": [],
      "source": [
        "import torch\n",
        "import torch.nn as nn\n",
        "import torch.optim as optim\n",
        "from torchvision import datasets, transforms\n",
        "import matplotlib.pyplot as plt"
      ]
    },
    {
      "cell_type": "code",
      "source": [
        "latent_dim = 100        # Dimensi ruang laten\n",
        "hidden_dim = 256        # Jumlah neuron di hidden layer\n",
        "image_dim = 28 * 28     # Image dimension\n",
        "batch_size = 64\n",
        "learning_rate = 0.0002\n",
        "num_epochs = 50"
      ],
      "metadata": {
        "id": "S2WUCNfHOWyh"
      },
      "execution_count": 3,
      "outputs": []
    },
    {
      "cell_type": "code",
      "source": [
        "# Load Dataset\n",
        "\n",
        "# Gabung beberapa data jadi satu\n",
        "transform = transforms.Compose([transforms.ToTensor(), transforms.Normalize((0.5, ), (0.5, ))])\n",
        "\n",
        "# Transform gambar ke bentuk PIL image/numpy array jadi tensor pytorch\n",
        "train_dataset = datasets.MNIST(root='./data', train=True, download=True, transform=transform)\n",
        "\n",
        "# menormalisasi tensor gambar dengan rata-rata 0.5 dan standar deviasi 0.5\n",
        "train_loader = torch.utils.data.DataLoader(train_dataset, batch_size=batch_size, shuffle=True)"
      ],
      "metadata": {
        "id": "XYEB9RpmO9PO"
      },
      "execution_count": 7,
      "outputs": []
    },
    {
      "cell_type": "code",
      "source": [
        "# Buat gambar\n",
        "\n",
        "class Generator(nn.Module):\n",
        "    def __init__(self):\n",
        "        super(Generator, self).__init__()\n",
        "        self.model = nn.Sequential(\n",
        "            nn.Linear(latent_dim, hidden_dim),\n",
        "            nn.ReLU(True),\n",
        "            nn.Linear(hidden_dim, hidden_dim),\n",
        "            nn.ReLU(True),\n",
        "            nn.Linear(hidden_dim, image_dim),\n",
        "            nn.Tanh()                                 # [-1, 1]\n",
        "        )\n",
        "\n",
        "    def forward(self, z):\n",
        "        img = self.model(z)\n",
        "        img = img.view(img.size(0), 1, 28, 28)\n",
        "        return img"
      ],
      "metadata": {
        "id": "KwpWTXPiOZkc"
      },
      "execution_count": 8,
      "outputs": []
    },
    {
      "cell_type": "code",
      "source": [
        "# Predict gambar\n",
        "\n",
        "class Discriminator(nn.Module):\n",
        "    def __init__(self):\n",
        "        super(Discriminator, self).__init__()\n",
        "        self.model = nn.Sequential(\n",
        "            nn.Linear(image_dim, hidden_dim),\n",
        "            nn.LeakyReLU(0.2, inplace=True),\n",
        "            nn.Linear(hidden_dim, hidden_dim),\n",
        "            nn.LeakyReLU(0.2, inplace=True),\n",
        "            nn.Linear(hidden_dim, 1),\n",
        "            nn.Sigmoid()                               # [0, 1]\n",
        "        )\n",
        "\n",
        "    def forward(self, img):\n",
        "        img_flat = img.view(img.size(0), -1)\n",
        "        validity = self.model(img_flat)\n",
        "        return validity"
      ],
      "metadata": {
        "id": "X7DuRaMSPwXq"
      },
      "execution_count": 11,
      "outputs": []
    },
    {
      "cell_type": "code",
      "source": [
        "generator = Generator()\n",
        "discriminator = Discriminator()"
      ],
      "metadata": {
        "id": "yKH4PbtPQKXt"
      },
      "execution_count": 12,
      "outputs": []
    },
    {
      "cell_type": "code",
      "source": [
        "# Optimizers\n",
        "optimizer_G = optim.Adam(generator.parameters(), lr=learning_rate)\n",
        "optimizer_D = optim.Adam(discriminator.parameters(), lr=learning_rate)\n",
        "\n",
        "# Loss function\n",
        "adversarial_loss = nn.BCELoss()"
      ],
      "metadata": {
        "id": "DMdSshiaQUYA"
      },
      "execution_count": 13,
      "outputs": []
    },
    {
      "cell_type": "code",
      "source": [
        "for epoch in range(num_epochs):\n",
        "    for i, (imgs, _) in enumerate(train_loader):\n",
        "        valid = torch.ones(imgs.size(0), 1)\n",
        "        fake = torch.zeros(imgs.size(0), 1)\n",
        "\n",
        "        real_imgs = imgs\n",
        "\n",
        "        # Train Generator\n",
        "        optimizer_G.zero_grad()\n",
        "        z = torch.randn(imgs.size(0), latent_dim)\n",
        "        gen_imgs = generator(z)\n",
        "        g_loss = adversarial_loss(discriminator(gen_imgs), valid)\n",
        "        g_loss.backward()\n",
        "        optimizer_G.step()\n",
        "\n",
        "        # Train Discriminator\n",
        "        optimizer_D.zero_grad()\n",
        "        real_loss = adversarial_loss(discriminator(real_imgs), valid)\n",
        "        fake_loss = adversarial_loss(discriminator(gen_imgs.detach()), fake)\n",
        "        d_loss = (real_loss + fake_loss) / 2\n",
        "        d_loss.backward()\n",
        "        optimizer_D.step()\n",
        "\n",
        "    print(f'Epoch {epoch + 1}/{num_epochs}, D Loss: {d_loss.item()}, G Loss: {g_loss.item()}')"
      ],
      "metadata": {
        "colab": {
          "base_uri": "https://localhost:8080/"
        },
        "id": "rViEdEh6QV1I",
        "outputId": "5e6e5886-5494-4b5d-bb77-e7aa3e82ba5a"
      },
      "execution_count": 14,
      "outputs": [
        {
          "output_type": "stream",
          "name": "stdout",
          "text": [
            "Epoch 1/50, D Loss: 0.056094929575920105, G Loss: 3.311225414276123\n",
            "Epoch 2/50, D Loss: 0.20326083898544312, G Loss: 1.9476912021636963\n",
            "Epoch 3/50, D Loss: 0.19056977331638336, G Loss: 2.1328141689300537\n",
            "Epoch 4/50, D Loss: 0.31499746441841125, G Loss: 3.184607982635498\n",
            "Epoch 5/50, D Loss: 0.23047588765621185, G Loss: 4.906177520751953\n",
            "Epoch 6/50, D Loss: 0.02480234205722809, G Loss: 4.015898704528809\n",
            "Epoch 7/50, D Loss: 0.08006057143211365, G Loss: 3.142094850540161\n",
            "Epoch 8/50, D Loss: 0.035127393901348114, G Loss: 4.247681617736816\n",
            "Epoch 9/50, D Loss: 0.05527834966778755, G Loss: 4.712566375732422\n",
            "Epoch 10/50, D Loss: 0.08159162104129791, G Loss: 5.839337348937988\n",
            "Epoch 11/50, D Loss: 0.19414782524108887, G Loss: 4.434957981109619\n",
            "Epoch 12/50, D Loss: 0.23473131656646729, G Loss: 5.644586563110352\n",
            "Epoch 13/50, D Loss: 0.14103801548480988, G Loss: 3.1120917797088623\n",
            "Epoch 14/50, D Loss: 0.17085999250411987, G Loss: 4.490876197814941\n",
            "Epoch 15/50, D Loss: 0.13217702507972717, G Loss: 3.0917916297912598\n",
            "Epoch 16/50, D Loss: 0.13468758761882782, G Loss: 3.1087169647216797\n",
            "Epoch 17/50, D Loss: 0.04109162092208862, G Loss: 5.23192834854126\n",
            "Epoch 18/50, D Loss: 0.11899618804454803, G Loss: 3.3109469413757324\n",
            "Epoch 19/50, D Loss: 0.10634595900774002, G Loss: 2.8252429962158203\n",
            "Epoch 20/50, D Loss: 0.15449512004852295, G Loss: 3.1233439445495605\n",
            "Epoch 21/50, D Loss: 0.07737645506858826, G Loss: 4.1626787185668945\n",
            "Epoch 22/50, D Loss: 0.1311098337173462, G Loss: 3.0626108646392822\n",
            "Epoch 23/50, D Loss: 0.11013192683458328, G Loss: 3.24719500541687\n",
            "Epoch 24/50, D Loss: 0.17540043592453003, G Loss: 4.038466453552246\n",
            "Epoch 25/50, D Loss: 0.17168037593364716, G Loss: 4.023666858673096\n",
            "Epoch 26/50, D Loss: 0.32253625988960266, G Loss: 2.073103189468384\n",
            "Epoch 27/50, D Loss: 0.23869284987449646, G Loss: 2.2970519065856934\n",
            "Epoch 28/50, D Loss: 0.08065508306026459, G Loss: 4.594021797180176\n",
            "Epoch 29/50, D Loss: 0.28045162558555603, G Loss: 1.977635383605957\n",
            "Epoch 30/50, D Loss: 0.21912474930286407, G Loss: 2.8337676525115967\n",
            "Epoch 31/50, D Loss: 0.2709629237651825, G Loss: 2.3842248916625977\n",
            "Epoch 32/50, D Loss: 0.243556946516037, G Loss: 1.9554965496063232\n",
            "Epoch 33/50, D Loss: 0.39376211166381836, G Loss: 2.150883436203003\n",
            "Epoch 34/50, D Loss: 0.3806397616863251, G Loss: 2.4946444034576416\n",
            "Epoch 35/50, D Loss: 0.10978064686059952, G Loss: 3.2398383617401123\n",
            "Epoch 36/50, D Loss: 0.16665664315223694, G Loss: 2.506679058074951\n",
            "Epoch 37/50, D Loss: 0.4868001341819763, G Loss: 3.36838698387146\n",
            "Epoch 38/50, D Loss: 0.44271308183670044, G Loss: 2.976424217224121\n",
            "Epoch 39/50, D Loss: 0.39940863847732544, G Loss: 2.3735241889953613\n",
            "Epoch 40/50, D Loss: 0.49536076188087463, G Loss: 1.648329734802246\n",
            "Epoch 41/50, D Loss: 0.35226574540138245, G Loss: 2.1893699169158936\n",
            "Epoch 42/50, D Loss: 0.23372533917427063, G Loss: 2.3261709213256836\n",
            "Epoch 43/50, D Loss: 0.1471056044101715, G Loss: 3.668640375137329\n",
            "Epoch 44/50, D Loss: 0.1759175956249237, G Loss: 2.5886306762695312\n",
            "Epoch 45/50, D Loss: 0.3790998160839081, G Loss: 2.1338374614715576\n",
            "Epoch 46/50, D Loss: 0.35040372610092163, G Loss: 1.58090341091156\n",
            "Epoch 47/50, D Loss: 0.19676055014133453, G Loss: 2.6927788257598877\n",
            "Epoch 48/50, D Loss: 0.2859445810317993, G Loss: 2.170375108718872\n",
            "Epoch 49/50, D Loss: 0.28403961658477783, G Loss: 2.2473559379577637\n",
            "Epoch 50/50, D Loss: 0.4285427927970886, G Loss: 1.5964916944503784\n"
          ]
        }
      ]
    },
    {
      "cell_type": "code",
      "source": [
        "# Generate new images\n",
        "def generate_images(generator, num_images, latent_dim):\n",
        "    # Menentukan status generator menjadi evaluation mode\n",
        "    generator.eval()\n",
        "\n",
        "    # Generate random noise\n",
        "    z = torch.randn(num_images, latent_dim)\n",
        "\n",
        "    # Generate images from noise\n",
        "    gen_imgs = generator(z)\n",
        "\n",
        "    # Rescale images menjadi rentang [0, 1]\n",
        "    gen_imgs = 0.5 * gen_imgs + 0.5\n",
        "\n",
        "    # Plot the generated images\n",
        "    fig, axs = plt.subplots(1, num_images, figsize=(num_images, 1))\n",
        "    for i in range(num_images):\n",
        "        axs[i].imshow(gen_imgs[i].detach().numpy().squeeze(), cmap='gray')\n",
        "        axs[i].axis('off')\n",
        "    plt.show()\n",
        "\n",
        "# Generate dan menampilkan 10 gambar baru\n",
        "generate_images(generator, 10, latent_dim)"
      ],
      "metadata": {
        "colab": {
          "base_uri": "https://localhost:8080/",
          "height": 97
        },
        "id": "iiDIbPasQhVJ",
        "outputId": "1674be0f-c74c-484f-f3ad-266141c08a2b"
      },
      "execution_count": 17,
      "outputs": [
        {
          "output_type": "display_data",
          "data": {
            "text/plain": [
              "<Figure size 1000x100 with 10 Axes>"
            ],
            "image/png": "[encoded data removed]"
          },
          "metadata": {}
        }
      ]
    }
  ]
}